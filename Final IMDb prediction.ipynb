{
 "cells": [
  {
   "cell_type": "markdown",
   "metadata": {},
   "source": [
    "## The purpose is to predict the rating of each movies or TV-series"
   ]
  },
  {
   "cell_type": "markdown",
   "metadata": {},
   "source": [
    "### 1 - Introduction phase: importing the data set"
   ]
  },
  {
   "cell_type": "code",
   "execution_count": 2,
   "metadata": {},
   "outputs": [],
   "source": [
    "import numpy as np\n",
    "import pandas as pd\n",
    "import matplotlib.pyplot as plt\n",
    "from sklearn.preprocessing import Imputer, StandardScaler, MinMaxScaler\n",
    "import seaborn as sb\n",
    "from scipy.stats import pearsonr\n",
    "from sklearn.ensemble import RandomForestRegressor\n",
    "from sklearn.model_selection import train_test_split\n",
    "from sklearn.grid_search import GridSearchCV\n",
    "from operator import itemgetter"
   ]
  },
  {
   "cell_type": "code",
   "execution_count": 3,
   "metadata": {},
   "outputs": [
    {
     "name": "stdout",
     "output_type": "stream",
     "text": [
      "5043\n"
     ]
    },
    {
     "data": {
      "text/plain": [
       "Index(['color', 'director_name', 'num_critic_for_reviews', 'duration',\n",
       "       'director_facebook_likes', 'actor_3_facebook_likes', 'actor_2_name',\n",
       "       'actor_1_facebook_likes', 'gross', 'genres', 'actor_1_name',\n",
       "       'movie_title', 'num_voted_users', 'cast_total_facebook_likes',\n",
       "       'actor_3_name', 'facenumber_in_poster', 'plot_keywords',\n",
       "       'movie_imdb_link', 'num_user_for_reviews', 'language', 'country',\n",
       "       'content_rating', 'budget', 'title_year', 'actor_2_facebook_likes',\n",
       "       'imdb_score', 'aspect_ratio', 'movie_facebook_likes'],\n",
       "      dtype='object')"
      ]
     },
     "execution_count": 3,
     "metadata": {},
     "output_type": "execute_result"
    }
   ],
   "source": [
    "data = pd.read_table('D:\\\\Python Projects\\\\IMDB 2\\\\movie_metadata.csv', sep= ',')\n",
    "print(len(data.index))\n",
    "data.columns"
   ]
  },
  {
   "cell_type": "code",
   "execution_count": 4,
   "metadata": {},
   "outputs": [
    {
     "data": {
      "text/plain": [
       "\" I added title_year to categorical features - for now - but I don't want to make columns based on its dummies values, \\n     instead I want to examine if it should be standardized or not \""
      ]
     },
     "execution_count": 4,
     "metadata": {},
     "output_type": "execute_result"
    }
   ],
   "source": [
    "f_data=data.drop(['aspect_ratio', 'movie_imdb_link'], axis=1)   \n",
    "   # ----->  I believe these features are not improving the prediction process!\n",
    "\n",
    "## Numeric Features\n",
    "numeric_features=f_data._get_numeric_data().columns.tolist()\n",
    "\n",
    "\n",
    "## All non-numeric columns but they are not neccesarily categorical features\n",
    "text_features=f_data.columns.tolist()\n",
    "text_features=[i for i in text_features if i not in numeric_features]\n",
    "\n",
    "\n",
    "## Categorical Features\n",
    "str_features=['movie_title', 'plot_keywords']\n",
    "categoric_features= [i for i in text_features if i not in str_features]\n",
    "\n",
    "\n",
    "numeric_features.remove('imdb_score')                                     # -----> it's the lable that we want to predict\n",
    "categoric_features.remove('content_rating')                               # -----> I think this feature is irrelevant\n",
    "numeric_features.remove('title_year')   \n",
    "categoric_features.append('title_year')\n",
    "\n",
    "''' I added title_year to categorical features - for now - but I don't want to make columns based on its dummies values, \n",
    "     instead I want to examine if it should be standardized or not '''"
   ]
  },
  {
   "cell_type": "code",
   "execution_count": 5,
   "metadata": {},
   "outputs": [
    {
     "name": "stdout",
     "output_type": "stream",
     "text": [
      "--------------------------------------------------------------------------------------------------------------------------------------------\n",
      "\u001b[1m numeric features are:\u001b[0m \n",
      " ['num_critic_for_reviews', 'duration', 'director_facebook_likes', 'actor_3_facebook_likes', 'actor_1_facebook_likes', 'gross', 'num_voted_users', 'cast_total_facebook_likes', 'facenumber_in_poster', 'num_user_for_reviews', 'budget', 'actor_2_facebook_likes', 'movie_facebook_likes']\n",
      "--------------------------------------------------------------------------------------------------------------------------------------------\n",
      "\u001b[1m categorical features are:\u001b[0m \n",
      " ['color', 'director_name', 'actor_2_name', 'genres', 'actor_1_name', 'actor_3_name', 'language', 'country', 'title_year']\n",
      "--------------------------------------------------------------------------------------------------------------------------------------------\n"
     ]
    }
   ],
   "source": [
    "print('-------'*20)\n",
    "print('\\033[1m numeric features are:\\033[0m','\\n', numeric_features)\n",
    "print('-------'*20)\n",
    "print('\\033[1m categorical features are:\\033[0m', '\\n',  categoric_features)\n",
    "print('-------'*20)"
   ]
  },
  {
   "cell_type": "code",
   "execution_count": 6,
   "metadata": {},
   "outputs": [
    {
     "data": {
      "image/png": "[encoded data removed]",
      "text/plain": [
       "<Figure size 576x360 with 1 Axes>"
      ]
     },
     "metadata": {
      "needs_background": "light"
     },
     "output_type": "display_data"
    }
   ],
   "source": [
    "plt.figure(figsize=(8,5))\n",
    "plt.hist(f_data.imdb_score, bins=20)\n",
    "plt.title('Distribution of the IMDB ratings')\n",
    "plt.show()"
   ]
  },
  {
   "cell_type": "markdown",
   "metadata": {},
   "source": [
    "### 2 - numeric features manipulations"
   ]
  },
  {
   "cell_type": "markdown",
   "metadata": {},
   "source": [
    "##### 2 - 1 - missing values and normalizing"
   ]
  },
  {
   "cell_type": "code",
   "execution_count": 7,
   "metadata": {},
   "outputs": [],
   "source": [
    "## dealing with missing values\n",
    "imp= Imputer(missing_values='NaN', strategy= 'most_frequent', axis=0)\n",
    "f_data[numeric_features]=imp.fit_transform(f_data[numeric_features])\n",
    "\n",
    "## normalizing the numeric features\n",
    "scl = StandardScaler()\n",
    "f_data[numeric_features]=scl.fit_transform(f_data[numeric_features])\n",
    "\n",
    "## and changing the original data set to fill the missing values for future uses without normalizing\n",
    "data[numeric_features]=imp.fit_transform(data[numeric_features])"
   ]
  },
  {
   "cell_type": "markdown",
   "metadata": {},
   "source": [
    "##### 2 - 2 - Checking the correlations"
   ]
  },
  {
   "cell_type": "code",
   "execution_count": 8,
   "metadata": {},
   "outputs": [
    {
     "data": {
      "image/png": "[encoded data removed]",
      "text/plain": [
       "<Figure size 720x576 with 2 Axes>"
      ]
     },
     "metadata": {
      "needs_background": "light"
     },
     "output_type": "display_data"
    }
   ],
   "source": [
    "len_numeric=len(numeric_features)\n",
    "corr_num_features = np.zeros((len_numeric,len_numeric))    # the matrix of correlation between all numeric_features\n",
    "\n",
    "## filling the correlation matrix\n",
    "for h, i in enumerate(numeric_features):\n",
    "    for k, j in enumerate(numeric_features):\n",
    "        cor_1,_ = pearsonr(f_data[i],f_data[j])\n",
    "        corr_num_features[h][k]=cor_1\n",
    "        \n",
    "corr_2=pd.DataFrame(corr_num_features, index=numeric_features, columns= numeric_features)\n",
    "\n",
    "### Plotting\n",
    "plt.figure(figsize= (10,8))                   \n",
    "sb.heatmap(corr_2, annot= True)                \n",
    "plt.show()"
   ]
  },
  {
   "cell_type": "markdown",
   "metadata": {},
   "source": [
    "-  cast_total_facebook_likes & actor_1_facebook_likes & actor_2_facebook_likes & actor_3_facebook_likes  -----> have correlations with each others\n",
    "- gross & num_critic_for_reviews & num_user_for_reviews & num_voted_users & movie_facebook_likes        -----> have correlations with each others\n",
    "\n",
    "- So, we make a new column named \"movie_success\" based on \"goss\", \"num_critic_for_reviews\", \"num_user_for_reviews\", \n",
    "  \"num_voted_users\" and \" movie_facebook_likes\". \n",
    "  Then we delete these features from numeric features to not participate\n",
    "   them in calculation process any further.\n",
    "\n",
    "- and we do the same for facebook likes: we create \"other_actors_facebook_likes\" feature based on \"actor_2_facebook_likes\" \n",
    "  and \"actor_3_facebook_likes\" and delete them too."
   ]
  },
  {
   "cell_type": "code",
   "execution_count": 9,
   "metadata": {},
   "outputs": [],
   "source": [
    "f_data['movie_success']=(f_data['gross']+f_data['num_critic_for_reviews']+f_data['num_user_for_reviews']\n",
    "                        +f_data['num_voted_users']+f_data['movie_facebook_likes'])/5\n",
    "\n",
    "f_data['other_actors_facebook_likes']=f_data['actor_2_facebook_likes']+f_data['actor_3_facebook_likes']\n",
    "\n",
    "''' P.S. we don't remove the columns from dataset, instead it is wiser if we just update the numeric_features list and  \n",
    "  make use of that list to make calculations.'''\n",
    "\n",
    "numeric_features_2 = [i for i in numeric_features if i not in ['gross', 'num_critic_for_reviews', 'num_user_for_reviews', \n",
    "                                                               'num_voted_users', 'cast_total_facebook_likes', \n",
    "                                                               'movie_facebook_likes','actor_2_facebook_likes', \n",
    "                                                               'actor_3_facebook_likes']]\n",
    "numeric_features_2.extend([\"movie_success\", \"other_actors_facebook_likes\"])"
   ]
  },
  {
   "cell_type": "code",
   "execution_count": 11,
   "metadata": {},
   "outputs": [
    {
     "name": "stdout",
     "output_type": "stream",
     "text": [
      "------------------------------------------------------------------------------------------------------------------------\n",
      "\u001b[1m new numeric features are:\u001b[0m \n",
      " ['duration', 'director_facebook_likes', 'actor_1_facebook_likes', 'facenumber_in_poster', 'budget', 'movie_success', 'other_actors_facebook_likes']\n",
      "------------------------------------------------------------------------------------------------------------------------\n"
     ]
    }
   ],
   "source": [
    "print('------'*20)\n",
    "print('\\033[1m new numeric features are:\\033[0m','\\n', numeric_features_2)\n",
    "print('------'*20)"
   ]
  },
  {
   "cell_type": "code",
   "execution_count": 12,
   "metadata": {},
   "outputs": [
    {
     "data": {
      "image/png": "[encoded data removed]",
      "text/plain": [
       "<Figure size 648x648 with 2 Axes>"
      ]
     },
     "metadata": {
      "needs_background": "light"
     },
     "output_type": "display_data"
    }
   ],
   "source": [
    "corr_num_features_2 = np.zeros((len(numeric_features_2),len(numeric_features_2)))\n",
    "for h, i in enumerate(numeric_features_2):\n",
    "    for k, j in enumerate(numeric_features_2):\n",
    "        cor_1,_ = pearsonr(f_data[i],f_data[j])\n",
    "        corr_num_features_2[h][k]=cor_1\n",
    "        \n",
    "corr_3=pd.DataFrame(corr_num_features_2, index=numeric_features_2, columns= numeric_features_2)\n",
    "plt.figure(figsize=(9,9))\n",
    "sb.heatmap(corr_3, vmax=.8, square=True, annot=True)\n",
    "plt.show()"
   ]
  },
  {
   "cell_type": "markdown",
   "metadata": {},
   "source": [
    "- Correlation of the numeric features with the IMDb score"
   ]
  },
  {
   "cell_type": "code",
   "execution_count": 13,
   "metadata": {},
   "outputs": [
    {
     "data": {
      "text/html": [
       "<div>\n",
       "<style scoped>\n",
       "    .dataframe tbody tr th:only-of-type {\n",
       "        vertical-align: middle;\n",
       "    }\n",
       "\n",
       "    .dataframe tbody tr th {\n",
       "        vertical-align: top;\n",
       "    }\n",
       "\n",
       "    .dataframe thead th {\n",
       "        text-align: right;\n",
       "    }\n",
       "</style>\n",
       "<table border=\"1\" class=\"dataframe\">\n",
       "  <thead>\n",
       "    <tr style=\"text-align: right;\">\n",
       "      <th></th>\n",
       "      <th>0</th>\n",
       "    </tr>\n",
       "  </thead>\n",
       "  <tbody>\n",
       "    <tr>\n",
       "      <th>duration</th>\n",
       "      <td>0.261</td>\n",
       "    </tr>\n",
       "    <tr>\n",
       "      <th>director_facebook_likes</th>\n",
       "      <td>0.162</td>\n",
       "    </tr>\n",
       "    <tr>\n",
       "      <th>actor_1_facebook_likes</th>\n",
       "      <td>0.076</td>\n",
       "    </tr>\n",
       "    <tr>\n",
       "      <th>facenumber_in_poster</th>\n",
       "      <td>-0.062</td>\n",
       "    </tr>\n",
       "    <tr>\n",
       "      <th>budget</th>\n",
       "      <td>0.027</td>\n",
       "    </tr>\n",
       "    <tr>\n",
       "      <th>movie_success</th>\n",
       "      <td>0.349</td>\n",
       "    </tr>\n",
       "    <tr>\n",
       "      <th>other_actors_facebook_likes</th>\n",
       "      <td>0.077</td>\n",
       "    </tr>\n",
       "  </tbody>\n",
       "</table>\n",
       "</div>"
      ],
      "text/plain": [
       "                                 0\n",
       "duration                     0.261\n",
       "director_facebook_likes      0.162\n",
       "actor_1_facebook_likes       0.076\n",
       "facenumber_in_poster        -0.062\n",
       "budget                       0.027\n",
       "movie_success                0.349\n",
       "other_actors_facebook_likes  0.077"
      ]
     },
     "execution_count": 13,
     "metadata": {},
     "output_type": "execute_result"
    }
   ],
   "source": [
    "correl_2=[]\n",
    "for i in numeric_features_2:\n",
    "    cor_4, _= pearsonr(f_data[i],f_data.imdb_score)\n",
    "    correl_2.append(cor_4)\n",
    "    \n",
    "correl_2 = pd.DataFrame([round(n, 3) for n in correl_2], index=numeric_features_2)\n",
    "correl_2"
   ]
  },
  {
   "cell_type": "markdown",
   "metadata": {},
   "source": [
    "### 3 - categorical features preprations"
   ]
  },
  {
   "cell_type": "markdown",
   "metadata": {},
   "source": [
    "####  3 - 1 - Director_names segmentation"
   ]
  },
  {
   "cell_type": "code",
   "execution_count": 14,
   "metadata": {},
   "outputs": [
    {
     "data": {
      "text/html": [
       "<div>\n",
       "<style scoped>\n",
       "    .dataframe tbody tr th:only-of-type {\n",
       "        vertical-align: middle;\n",
       "    }\n",
       "\n",
       "    .dataframe tbody tr th {\n",
       "        vertical-align: top;\n",
       "    }\n",
       "\n",
       "    .dataframe thead th {\n",
       "        text-align: right;\n",
       "    }\n",
       "</style>\n",
       "<table border=\"1\" class=\"dataframe\">\n",
       "  <thead>\n",
       "    <tr style=\"text-align: right;\">\n",
       "      <th></th>\n",
       "      <th>dir_class</th>\n",
       "      <th>director_name</th>\n",
       "    </tr>\n",
       "  </thead>\n",
       "  <tbody>\n",
       "    <tr>\n",
       "      <th>0</th>\n",
       "      <td>low popularity</td>\n",
       "      <td>A. Raven Cruz</td>\n",
       "    </tr>\n",
       "    <tr>\n",
       "      <th>1</th>\n",
       "      <td>low popularity</td>\n",
       "      <td>Aaron Hann</td>\n",
       "    </tr>\n",
       "    <tr>\n",
       "      <th>2</th>\n",
       "      <td>low popularity</td>\n",
       "      <td>Aaron Schneider</td>\n",
       "    </tr>\n",
       "    <tr>\n",
       "      <th>3</th>\n",
       "      <td>medium popularity</td>\n",
       "      <td>Aaron Seltzer</td>\n",
       "    </tr>\n",
       "    <tr>\n",
       "      <th>4</th>\n",
       "      <td>medium popularity</td>\n",
       "      <td>Abel Ferrara</td>\n",
       "    </tr>\n",
       "  </tbody>\n",
       "</table>\n",
       "</div>"
      ],
      "text/plain": [
       "           dir_class    director_name\n",
       "0     low popularity    A. Raven Cruz\n",
       "1     low popularity       Aaron Hann\n",
       "2     low popularity  Aaron Schneider\n",
       "3  medium popularity    Aaron Seltzer\n",
       "4  medium popularity     Abel Ferrara"
      ]
     },
     "execution_count": 14,
     "metadata": {},
     "output_type": "execute_result"
    }
   ],
   "source": [
    "directors=pd.DataFrame(data.groupby('director_name')['director_facebook_likes'].sum())\n",
    "directors['dir_class']=pd.cut(directors.director_facebook_likes,\n",
    "                             bins=[-1, 50, 1000, 200000000],\n",
    "                             labels=[\"low popularity\", \"medium popularity\",\"high popularity\"])\n",
    "\n",
    "directors_2 = directors.drop('director_facebook_likes', axis=1)\n",
    "directors_2['director_name']=directors_2.index\n",
    "directors_2.reset_index(drop=True, inplace=True)\n",
    "directors_2.head()"
   ]
  },
  {
   "cell_type": "markdown",
   "metadata": {},
   "source": [
    "_\"then according to each director's name we create a column named dir-class\"_"
   ]
  },
  {
   "cell_type": "code",
   "execution_count": 15,
   "metadata": {},
   "outputs": [
    {
     "name": "stdout",
     "output_type": "stream",
     "text": [
      "5043\n"
     ]
    },
    {
     "data": {
      "text/plain": [
       "low popularity       2092\n",
       "medium popularity    1774\n",
       "high popularity      1073\n",
       "Name: dir_class, dtype: int64"
      ]
     },
     "execution_count": 15,
     "metadata": {},
     "output_type": "execute_result"
    }
   ],
   "source": [
    "f_data=pd.merge(f_data,directors_2, on='director_name', how='left')\n",
    "print(len(f_data.index))\n",
    "f_data.dir_class.value_counts()"
   ]
  },
  {
   "cell_type": "markdown",
   "metadata": {},
   "source": [
    "- updating categorical features"
   ]
  },
  {
   "cell_type": "code",
   "execution_count": 16,
   "metadata": {},
   "outputs": [
    {
     "name": "stdout",
     "output_type": "stream",
     "text": [
      "--------------------------------------------------------------------------------------------------------------------------------------------\n",
      "\u001b[1m new categorical features are:\u001b[0m \n",
      " ['color', 'actor_2_name', 'genres', 'actor_1_name', 'actor_3_name', 'language', 'country', 'title_year', 'dir_class']\n",
      "--------------------------------------------------------------------------------------------------------------------------------------------\n"
     ]
    }
   ],
   "source": [
    "categoric_features.append('dir_class')\n",
    "categoric_features.remove('director_name')\n",
    "\n",
    "print('------'*20)\n",
    "print('\\033[1m new categorical features are:\\033[0m','\\n', categoric_features)\n",
    "print('------'*20)"
   ]
  },
  {
   "cell_type": "markdown",
   "metadata": {},
   "source": [
    "#### 3 - 2 - Actors segmentation"
   ]
  },
  {
   "cell_type": "code",
   "execution_count": 17,
   "metadata": {},
   "outputs": [
    {
     "data": {
      "text/plain": [
       "Index(['class', 'name'], dtype='object')"
      ]
     },
     "execution_count": 17,
     "metadata": {},
     "output_type": "execute_result"
    }
   ],
   "source": [
    "actor_1=data[['actor_1_name','actor_1_facebook_likes']]\n",
    "actor_1.columns=['actor_name', 'facebook_likes']\n",
    "\n",
    "actor_2=data[['actor_2_name','actor_2_facebook_likes']]\n",
    "actor_2.columns=['actor_name', 'facebook_likes']\n",
    "\n",
    "actor_3 =data[['actor_3_name','actor_3_facebook_likes']]\n",
    "actor_3.columns=['actor_name', 'facebook_likes']\n",
    "\n",
    "actors=pd.concat([actor_1, actor_2, actor_3], axis=0)\n",
    "actors_total= pd.DataFrame(actors.groupby('actor_name')['facebook_likes'].mean().round(0))\n",
    "\n",
    "\n",
    "actors_total['class']=pd.cut(actors_total.facebook_likes,\n",
    "                             bins=[-1, 300, 5000, 2000000],\n",
    "                             labels=[\"low popularity\", \"medium popularity\",\"high popularity\"])\n",
    "actors_total['name']=actors_total.index\n",
    "actors_total_2=actors_total.drop('facebook_likes', axis=1)\n",
    "actors_total_2.reset_index(drop=True, inplace=True)\n",
    "actors_total_2.columns"
   ]
  },
  {
   "cell_type": "markdown",
   "metadata": {},
   "source": [
    "- replacing the actors segmentations"
   ]
  },
  {
   "cell_type": "code",
   "execution_count": 18,
   "metadata": {},
   "outputs": [],
   "source": [
    "actors_name=['actor_1_name', 'actor_2_name', 'actor_3_name' ]\n",
    "actors_class=['actor_1_class', 'actor_2_class', 'actor_3_class']\n",
    "for i,j in enumerate(actors_name):\n",
    "    actors_total_2.columns=[actors_class[i], j]\n",
    "    f_data=pd.merge(f_data, actors_total_2, on= j, how='left')"
   ]
  },
  {
   "cell_type": "code",
   "execution_count": 19,
   "metadata": {},
   "outputs": [
    {
     "name": "stdout",
     "output_type": "stream",
     "text": [
      "------------------------------------------------------------------------------------------------------------------------\n",
      "\u001b[1m the count of values in actor_1_class are:\u001b[0m \n",
      " medium popularity    2871\n",
      "high popularity      1592\n",
      "low popularity        573\n",
      "Name: actor_1_class, dtype: int64\n",
      "------------------------------------------------------------------------------------------------------------------------\n",
      "\u001b[1m the count of values in actor_2_class are:\u001b[0m \n",
      " medium popularity    3291\n",
      "low popularity       1331\n",
      "high popularity       408\n",
      "Name: actor_2_class, dtype: int64\n",
      "------------------------------------------------------------------------------------------------------------------------\n",
      "\u001b[1m the count of values in actor_3_class are:\u001b[0m \n",
      " medium popularity    2730\n",
      "low popularity       2191\n",
      "high popularity        99\n",
      "Name: actor_3_class, dtype: int64\n",
      "------------------------------------------------------------------------------------------------------------------------\n"
     ]
    }
   ],
   "source": [
    "print('------'*20)\n",
    "print('\\033[1m the count of values in actor_1_class are:\\033[0m','\\n', f_data.actor_1_class.value_counts())\n",
    "print('------'*20)\n",
    "print('\\033[1m the count of values in actor_2_class are:\\033[0m','\\n', f_data.actor_2_class.value_counts())\n",
    "print('------'*20)\n",
    "print('\\033[1m the count of values in actor_3_class are:\\033[0m','\\n', f_data.actor_3_class.value_counts())\n",
    "print('------'*20)"
   ]
  },
  {
   "cell_type": "markdown",
   "metadata": {},
   "source": [
    "- updating categorical features"
   ]
  },
  {
   "cell_type": "code",
   "execution_count": 20,
   "metadata": {},
   "outputs": [
    {
     "name": "stdout",
     "output_type": "stream",
     "text": [
      "------------------------------------------------------------------------------------------------------------------------\n",
      "\u001b[1m new categorical features are:\u001b[0m \n",
      " ['color', 'genres', 'language', 'country', 'title_year', 'dir_class', 'actor_1_class', 'actor_2_class', 'actor_3_class']\n",
      "------------------------------------------------------------------------------------------------------------------------\n"
     ]
    }
   ],
   "source": [
    "categoric_features_2=categoric_features.copy()\n",
    "\n",
    "# appending\n",
    "categoric_features_2.extend(['actor_1_class', 'actor_2_class', 'actor_3_class'])\n",
    "\n",
    "# removing\n",
    "categoric_features_2.remove('actor_1_name')\n",
    "categoric_features_2.remove('actor_2_name')\n",
    "categoric_features_2.remove('actor_3_name')\n",
    "\n",
    "print('------'*20)\n",
    "print('\\033[1m new categorical features are:\\033[0m','\\n', categoric_features_2)\n",
    "print('------'*20)"
   ]
  },
  {
   "cell_type": "markdown",
   "metadata": {},
   "source": [
    "#### 3 - 3 - genres edition"
   ]
  },
  {
   "cell_type": "code",
   "execution_count": 21,
   "metadata": {},
   "outputs": [],
   "source": [
    "genre_list=['Action', 'Adventure', 'Drama', 'Animation', 'Comedy', 'Mystery', 'Crime', 'Biography', 'Fantasy', \n",
    "            'Documentary', 'Sci-Fi', 'Horror', 'Romance', 'Thriller', 'Family', 'Music', 'Western', 'Musical', \n",
    "            'Film-Noir', 'History', 'War', 'Sport', 'News', 'Game-Show', 'Reality-TV', 'Short']"
   ]
  },
  {
   "cell_type": "markdown",
   "metadata": {},
   "source": [
    "- creating a column for each genre in genre_list with the zero value"
   ]
  },
  {
   "cell_type": "code",
   "execution_count": 22,
   "metadata": {},
   "outputs": [],
   "source": [
    "for gen in genre_list:\n",
    "    my_len=len(f_data.columns)\n",
    "    f_data.insert(my_len, gen,0)\n",
    "    categoric_features_2.append(gen)"
   ]
  },
  {
   "cell_type": "markdown",
   "metadata": {},
   "source": [
    "- based on genre column in f_data filling these columns with 1 value"
   ]
  },
  {
   "cell_type": "code",
   "execution_count": 23,
   "metadata": {},
   "outputs": [
    {
     "data": {
      "text/plain": [
       "Action         1153\n",
       "Adventure       923\n",
       "Drama          2594\n",
       "Animation       242\n",
       "Comedy         1872\n",
       "Mystery         500\n",
       "Crime           889\n",
       "Biography       293\n",
       "Fantasy         610\n",
       "Documentary     121\n",
       "Sci-Fi          616\n",
       "Horror          565\n",
       "Romance        1107\n",
       "Thriller       1411\n",
       "Family          546\n",
       "Music           214\n",
       "Western          97\n",
       "Musical         132\n",
       "Film-Noir         6\n",
       "History         207\n",
       "War             213\n",
       "Sport           182\n",
       "News              3\n",
       "Game-Show         1\n",
       "Reality-TV        2\n",
       "Short             5\n",
       "dtype: int64"
      ]
     },
     "execution_count": 23,
     "metadata": {},
     "output_type": "execute_result"
    }
   ],
   "source": [
    "for i in (f_data.index):\n",
    "    gen1=f_data.genres[i]\n",
    "    gen2=gen1.split('|')\n",
    "    for g in gen2:\n",
    "        f_data.at[i, g]=1\n",
    "f_data[genre_list].sum() "
   ]
  },
  {
   "cell_type": "markdown",
   "metadata": {},
   "source": [
    "- updating categorical features"
   ]
  },
  {
   "cell_type": "code",
   "execution_count": 24,
   "metadata": {},
   "outputs": [
    {
     "name": "stdout",
     "output_type": "stream",
     "text": [
      "------------------------------------------------------------------------------------------------------------------------\n",
      "\u001b[1m new categorical features are:\u001b[0m \n",
      " ['color', 'language', 'country', 'title_year', 'dir_class', 'actor_1_class', 'actor_2_class', 'actor_3_class', 'Action', 'Adventure', 'Drama', 'Animation', 'Comedy', 'Mystery', 'Crime', 'Biography', 'Fantasy', 'Documentary', 'Sci-Fi', 'Horror', 'Romance', 'Thriller', 'Family', 'Music', 'Western', 'Musical', 'Film-Noir', 'History', 'War', 'Sport', 'News', 'Game-Show', 'Reality-TV', 'Short']\n",
      "------------------------------------------------------------------------------------------------------------------------\n"
     ]
    }
   ],
   "source": [
    "categoric_features_2.remove('genres')\n",
    "\n",
    "print('------'*20)\n",
    "print('\\033[1m new categorical features are:\\033[0m','\\n', categoric_features_2)\n",
    "print('------'*20)"
   ]
  },
  {
   "cell_type": "markdown",
   "metadata": {},
   "source": [
    "#### 3 - 4 - deleting missing values based on categorical features"
   ]
  },
  {
   "cell_type": "code",
   "execution_count": 25,
   "metadata": {},
   "outputs": [],
   "source": [
    "f_data_2=f_data.dropna()\n",
    "f_data_2.reset_index(drop=True, inplace=True)"
   ]
  },
  {
   "cell_type": "markdown",
   "metadata": {},
   "source": [
    "#### 3 - 5 - deleting some rows based on categorical features"
   ]
  },
  {
   "cell_type": "markdown",
   "metadata": {},
   "source": [
    "##### 3 - 5 - 1 - deleting based on countries"
   ]
  },
  {
   "cell_type": "markdown",
   "metadata": {},
   "source": [
    "- deleting some rows based on the country column.\n",
    "> I want to delete movies (rows) which are from countries that we have less than 10 movies from them. it's because if we want to consider country of origin in order to predict the rating, there should be enough data from that country to able the model predict the behavior of target based on that country.\n",
    "\n",
    "- the more movies from each country, the more exact model would be achieved, for now, we consider the minimum 9 movies for each country."
   ]
  },
  {
   "cell_type": "code",
   "execution_count": 26,
   "metadata": {},
   "outputs": [
    {
     "name": "stdout",
     "output_type": "stream",
     "text": [
      "------------------------------------------------------------------------------------------------------------------------\n",
      "\u001b[1m Number of countries which do not have enough data and need to be deleted are:\u001b[0m \n",
      " 38\n",
      "------------------------------------------------------------------------------------------------------------------------\n",
      "\u001b[1m selected countries to be deleted are:\u001b[0m \n",
      " ['South Africa', 'Norway', 'Russia', 'Brazil', 'Thailand', 'Netherlands', 'Iran', 'Argentina', 'West Germany', 'Belgium', 'Czech Republic', 'Israel', 'Sweden', 'Hungary', 'Romania', 'Greece', 'Taiwan', 'Poland', 'Bulgaria', 'Afghanistan', 'Colombia', 'Libya', 'Bahamas', 'Aruba', 'New Line', 'Philippines', 'Official site', 'Indonesia', 'Finland', 'Panama', 'Peru', 'Soviet Union', 'Iceland', 'Switzerland', 'Chile', 'Slovakia', 'Kyrgyzstan', 'Georgia']\n",
      "------------------------------------------------------------------------------------------------------------------------\n"
     ]
    }
   ],
   "source": [
    "My_country=pd.DataFrame(f_data_2.country.value_counts())\n",
    "country_1=My_country[My_country<10]\n",
    "country_1.dropna(inplace=True)\n",
    "country_to_delete = country_1.index.tolist()\n",
    "\n",
    "print('------'*20)\n",
    "print(\"\\033[1m Number of countries which do not have enough data and need to be deleted are:\\033[0m\", '\\n',\n",
    "      len(country_to_delete))\n",
    "print('------'*20)\n",
    "print(\"\\033[1m selected countries to be deleted are:\\033[0m\", '\\n', country_to_delete)\n",
    "print('------'*20)"
   ]
  },
  {
   "cell_type": "code",
   "execution_count": 27,
   "metadata": {},
   "outputs": [
    {
     "name": "stdout",
     "output_type": "stream",
     "text": [
      "------------------------------------------------------------------------------------------------------------------------\n",
      "\u001b[1m The remained countries and the number of their movies in data set are:\u001b[0m \n",
      " USA            3535\n",
      "UK              412\n",
      "France          130\n",
      "Canada          100\n",
      "Germany          93\n",
      "Australia        51\n",
      "Spain            31\n",
      "China            19\n",
      "Japan            18\n",
      "Italy            17\n",
      "Hong Kong        15\n",
      "India            13\n",
      "New Zealand      13\n",
      "Denmark          11\n",
      "Ireland          11\n",
      "South Korea      11\n",
      "Mexico           10\n",
      "Name: country, dtype: int64\n",
      "------------------------------------------------------------------------------------------------------------------------\n"
     ]
    }
   ],
   "source": [
    "f_data_3=f_data_2.copy(deep=True)\n",
    "for i in country_to_delete:\n",
    "    j=int(country_1.loc[i][0])\n",
    "    for h in range(j):\n",
    "        f_data_3.drop(f_data_3[f_data_3.country == i].index.astype(int)[0], axis=0, inplace=True)\n",
    "\n",
    "print('------'*20)        \n",
    "print(\"\\033[1m The remained countries and the number of their movies in data set are:\\033[0m\", \"\\n\",\n",
    "      f_data_3.country.value_counts())\n",
    "print('------'*20)"
   ]
  },
  {
   "cell_type": "markdown",
   "metadata": {},
   "source": [
    "##### 3 - 4 - 2 - deleting based on Language"
   ]
  },
  {
   "cell_type": "markdown",
   "metadata": {},
   "source": [
    "> The same explanation as countries is applies here as well"
   ]
  },
  {
   "cell_type": "code",
   "execution_count": 28,
   "metadata": {},
   "outputs": [
    {
     "name": "stdout",
     "output_type": "stream",
     "text": [
      "------------------------------------------------------------------------------------------------------------------------\n",
      "\u001b[1m Number of Languages which do not have enough data and need to be deleted are:\u001b[0m \n",
      " 19\n",
      "------------------------------------------------------------------------------------------------------------------------\n",
      "\u001b[1m selected Languages to be deleted are:\u001b[0m \n",
      " Index(['Italian', 'Cantonese', 'Korean', 'Danish', 'Aboriginal', 'None',\n",
      "       'Vietnamese', 'Filipino', 'Hebrew', 'Kazakh', 'Zulu', 'Arabic',\n",
      "       'Persian', 'Maya', 'Aramaic', 'Dari', 'Portuguese', 'Bosnian',\n",
      "       'Indonesian'],\n",
      "      dtype='object')\n",
      "------------------------------------------------------------------------------------------------------------------------\n"
     ]
    }
   ],
   "source": [
    "language= pd.DataFrame(f_data_3.language.value_counts())\n",
    "language_1= language[language<10]\n",
    "language_1.dropna(inplace=True)\n",
    "language_to_delete=language_1.index\n",
    "\n",
    "print('------'*20)\n",
    "print(\"\\033[1m Number of Languages which do not have enough data and need to be deleted are:\\033[0m\",\n",
    "      '\\n', len(language_to_delete))\n",
    "print('------'*20)\n",
    "print(\"\\033[1m selected Languages to be deleted are:\\033[0m\", '\\n', language_to_delete)\n",
    "print('------'*20)"
   ]
  },
  {
   "cell_type": "code",
   "execution_count": 29,
   "metadata": {},
   "outputs": [
    {
     "name": "stdout",
     "output_type": "stream",
     "text": [
      "------------------------------------------------------------------------------------------------------------------------\n",
      "\u001b[1m The remained Languages and the number of their movies in data set are:\u001b[0m \n",
      " English     4310\n",
      "French        49\n",
      "Spanish       28\n",
      "Mandarin      19\n",
      "Hindi         14\n",
      "Japanese      13\n",
      "German        12\n",
      "Name: language, dtype: int64\n",
      "------------------------------------------------------------------------------------------------------------------------\n"
     ]
    }
   ],
   "source": [
    "for i in language_to_delete:\n",
    "    j=int(language_1.loc[i][0])\n",
    "    for h in range(j):\n",
    "        f_data_3.drop(f_data_3[f_data_3.language == i].index.astype(int)[0], axis=0, inplace=True)\n",
    "        \n",
    "print('------'*20)        \n",
    "print(\"\\033[1m The remained Languages and the number of their movies in data set are:\\033[0m\", \n",
    "      \"\\n\", f_data_3.language.value_counts())\n",
    "print('------'*20)"
   ]
  },
  {
   "cell_type": "markdown",
   "metadata": {},
   "source": [
    "##### 3 - 4 - 3 - deleting based on genres"
   ]
  },
  {
   "cell_type": "code",
   "execution_count": 30,
   "metadata": {},
   "outputs": [
    {
     "data": {
      "text/html": [
       "<div>\n",
       "<style scoped>\n",
       "    .dataframe tbody tr th:only-of-type {\n",
       "        vertical-align: middle;\n",
       "    }\n",
       "\n",
       "    .dataframe tbody tr th {\n",
       "        vertical-align: top;\n",
       "    }\n",
       "\n",
       "    .dataframe thead th {\n",
       "        text-align: right;\n",
       "    }\n",
       "</style>\n",
       "<table border=\"1\" class=\"dataframe\">\n",
       "  <thead>\n",
       "    <tr style=\"text-align: right;\">\n",
       "      <th></th>\n",
       "      <th>cout_value</th>\n",
       "    </tr>\n",
       "  </thead>\n",
       "  <tbody>\n",
       "    <tr>\n",
       "      <th>Film-Noir</th>\n",
       "      <td>5.0</td>\n",
       "    </tr>\n",
       "    <tr>\n",
       "      <th>News</th>\n",
       "      <td>1.0</td>\n",
       "    </tr>\n",
       "    <tr>\n",
       "      <th>Game-Show</th>\n",
       "      <td>0.0</td>\n",
       "    </tr>\n",
       "    <tr>\n",
       "      <th>Reality-TV</th>\n",
       "      <td>0.0</td>\n",
       "    </tr>\n",
       "    <tr>\n",
       "      <th>Short</th>\n",
       "      <td>0.0</td>\n",
       "    </tr>\n",
       "  </tbody>\n",
       "</table>\n",
       "</div>"
      ],
      "text/plain": [
       "            cout_value\n",
       "Film-Noir          5.0\n",
       "News               1.0\n",
       "Game-Show          0.0\n",
       "Reality-TV         0.0\n",
       "Short              0.0"
      ]
     },
     "execution_count": 30,
     "metadata": {},
     "output_type": "execute_result"
    }
   ],
   "source": [
    "genres_to_delete = pd.DataFrame(f_data_2[genre_list].sum())\n",
    "genres_to_delete.columns=['cout_value']\n",
    "genres_to_delete_2 = genres_to_delete[genres_to_delete<10]\n",
    "genres_to_delete_2.dropna(axis=0, inplace=True)\n",
    "genres_to_delete_1= genres_to_delete_2.index\n",
    "genres_to_delete_2"
   ]
  },
  {
   "cell_type": "code",
   "execution_count": 31,
   "metadata": {},
   "outputs": [
    {
     "name": "stdout",
     "output_type": "stream",
     "text": [
      "------------------------------------------------------------------------------------------------------------------------\n",
      "\u001b[1m The remained Languages and the number of their movies in data set are:\u001b[0m \n",
      " Action         1050\n",
      "Adventure       856\n",
      "Drama          2241\n",
      "Animation       220\n",
      "Comedy         1710\n",
      "Mystery         440\n",
      "Crime           797\n",
      "Biography       265\n",
      "Fantasy         561\n",
      "Documentary      70\n",
      "Sci-Fi          566\n",
      "Horror          506\n",
      "Romance        1013\n",
      "Thriller       1272\n",
      "Family          497\n",
      "Music           196\n",
      "Western          83\n",
      "Musical         121\n",
      "Film-Noir         0\n",
      "History         172\n",
      "War             176\n",
      "Sport           177\n",
      "News              0\n",
      "Game-Show         0\n",
      "Reality-TV        0\n",
      "Short             0\n",
      "dtype: int64\n",
      "------------------------------------------------------------------------------------------------------------------------\n"
     ]
    }
   ],
   "source": [
    "for i in genres_to_delete_1:\n",
    "    j=int(genres_to_delete_2.loc[i][0])\n",
    "    for h in range(j):\n",
    "        f_data_3.drop(f_data_3[f_data_3[i] == 1].index.astype(int)[0], axis=0, inplace=True)\n",
    "\n",
    "\n",
    "        \n",
    "print('------'*20)        \n",
    "print(\"\\033[1m The remained Languages and the number of their movies in data set are:\\033[0m\", \n",
    "      \"\\n\", f_data_3[genre_list].sum())\n",
    "print('------'*20)"
   ]
  },
  {
   "cell_type": "markdown",
   "metadata": {},
   "source": [
    "- updating the categorical features"
   ]
  },
  {
   "cell_type": "code",
   "execution_count": 33,
   "metadata": {},
   "outputs": [
    {
     "name": "stdout",
     "output_type": "stream",
     "text": [
      "------------------------------------------------------------------------------------------------------------------------\n",
      "\u001b[1m new categorical features are:\u001b[0m \n",
      " ['color', 'language', 'country', 'title_year', 'dir_class', 'actor_1_class', 'actor_2_class', 'actor_3_class', 'Action', 'Adventure', 'Drama', 'Animation', 'Comedy', 'Mystery', 'Crime', 'Biography', 'Fantasy', 'Documentary', 'Sci-Fi', 'Horror', 'Romance', 'Thriller', 'Family', 'Music', 'Western', 'Musical', 'History', 'War', 'Sport']\n",
      "------------------------------------------------------------------------------------------------------------------------\n"
     ]
    }
   ],
   "source": [
    "genre_column_to_delete=pd.DataFrame(f_data_3[genre_list].sum())\n",
    "genre_column_to_delete=genre_column_to_delete[genre_column_to_delete==0]\n",
    "genre_column_to_delete.dropna(axis=0, inplace=True)\n",
    "genre_column_to_delete=genre_column_to_delete.index\n",
    "for i in genre_column_to_delete:\n",
    "    categoric_features_2.remove(i)\n",
    "\n",
    "\n",
    "print('------'*20)\n",
    "print('\\033[1m new categorical features are:\\033[0m','\\n', categoric_features_2)\n",
    "print('------'*20)"
   ]
  },
  {
   "cell_type": "markdown",
   "metadata": {},
   "source": [
    "- result of deleting some samples"
   ]
  },
  {
   "cell_type": "code",
   "execution_count": 35,
   "metadata": {},
   "outputs": [
    {
     "name": "stdout",
     "output_type": "stream",
     "text": [
      "------------------------------------------------------------------------------------------------------------------------\n",
      "In total\u001b[91m \u001b[1m604\u001b[0m rows are deleted from the data set and the \u001b[91m\u001b[1m4439\u001b[0m rows are ready to feed into model\n",
      "------------------------------------------------------------------------------------------------------------------------\n"
     ]
    }
   ],
   "source": [
    "print('------'*20)\n",
    "print(\"In total\\033[91m \\033[1m{}\\033[0m rows are deleted from the data set and the \\033[91m\\033[1m{}\\033[0m \\\n",
    "rows are ready to feed into model\".format(len(f_data.index)-len(f_data_3.index), len(f_data_3.index)))\n",
    "print('------'*20)"
   ]
  },
  {
   "cell_type": "markdown",
   "metadata": {},
   "source": [
    "#### 3 - 6 - get dummies"
   ]
  },
  {
   "cell_type": "code",
   "execution_count": 36,
   "metadata": {},
   "outputs": [],
   "source": [
    "cat_features_to_dummies=['color', 'language', 'country', 'dir_class', 'actor_1_class', 'actor_2_class', 'actor_3_class']"
   ]
  },
  {
   "cell_type": "code",
   "execution_count": 37,
   "metadata": {},
   "outputs": [],
   "source": [
    "f_data_4 = pd.get_dummies(f_data_3[cat_features_to_dummies])\n",
    "dummies_columns = f_data_4.columns.tolist()\n",
    "f_data_5 = pd.concat([f_data_3, f_data_4], axis=1)"
   ]
  },
  {
   "cell_type": "markdown",
   "metadata": {},
   "source": [
    "- updating categorical features"
   ]
  },
  {
   "cell_type": "code",
   "execution_count": 38,
   "metadata": {},
   "outputs": [
    {
     "name": "stdout",
     "output_type": "stream",
     "text": [
      "------------------------------------------------------------------------------------------------------------------------\n",
      "\u001b[1m new categorical features are:\u001b[0m \n",
      " ['title_year', 'Action', 'Adventure', 'Drama', 'Animation', 'Comedy', 'Mystery', 'Crime', 'Biography', 'Fantasy', 'Documentary', 'Sci-Fi', 'Horror', 'Romance', 'Thriller', 'Family', 'Music', 'Western', 'Musical', 'History', 'War', 'Sport', 'color_ Black and White', 'color_Color', 'language_English', 'language_French', 'language_German', 'language_Hindi', 'language_Japanese', 'language_Mandarin', 'language_Spanish', 'country_Australia', 'country_Canada', 'country_China', 'country_Denmark', 'country_France', 'country_Germany', 'country_Hong Kong', 'country_India', 'country_Ireland', 'country_Italy', 'country_Japan', 'country_Mexico', 'country_New Zealand', 'country_South Korea', 'country_Spain', 'country_UK', 'country_USA', 'dir_class_low popularity', 'dir_class_medium popularity', 'dir_class_high popularity', 'actor_1_class_low popularity', 'actor_1_class_medium popularity', 'actor_1_class_high popularity', 'actor_2_class_low popularity', 'actor_2_class_medium popularity', 'actor_2_class_high popularity', 'actor_3_class_low popularity', 'actor_3_class_medium popularity', 'actor_3_class_high popularity']\n",
      "------------------------------------------------------------------------------------------------------------------------\n"
     ]
    }
   ],
   "source": [
    "categoric_features_3 = categoric_features_2.copy()\n",
    "\n",
    "for i in dummies_columns:\n",
    "    categoric_features_3.append(i)\n",
    "\n",
    "for j in cat_features_to_dummies:\n",
    "    categoric_features_3.remove(j)  \n",
    "\n",
    "print('------'*20)\n",
    "print('\\033[1m new categorical features are:\\033[0m','\\n', categoric_features_3)\n",
    "print('------'*20)"
   ]
  },
  {
   "cell_type": "markdown",
   "metadata": {},
   "source": [
    "### 4 - Feature selection based on the performance of model"
   ]
  },
  {
   "cell_type": "markdown",
   "metadata": {},
   "source": [
    "- creating different groups of features to feed into model"
   ]
  },
  {
   "cell_type": "code",
   "execution_count": 39,
   "metadata": {},
   "outputs": [],
   "source": [
    "features_group_1 = numeric_features_2.copy()\n",
    "for i in categoric_features_3:\n",
    "    features_group_1.append(i)"
   ]
  },
  {
   "cell_type": "code",
   "execution_count": 40,
   "metadata": {},
   "outputs": [],
   "source": [
    "features_group_2=features_group_1.copy()\n",
    "features_group_2.remove('director_facebook_likes')"
   ]
  },
  {
   "cell_type": "code",
   "execution_count": 41,
   "metadata": {},
   "outputs": [],
   "source": [
    "features_group_3=features_group_1.copy()\n",
    "features_group_3.remove('actor_1_facebook_likes')"
   ]
  },
  {
   "cell_type": "code",
   "execution_count": 42,
   "metadata": {},
   "outputs": [],
   "source": [
    "features_group_4=features_group_1.copy()\n",
    "features_group_4.remove('other_actors_facebook_likes')"
   ]
  },
  {
   "cell_type": "code",
   "execution_count": 43,
   "metadata": {},
   "outputs": [],
   "source": [
    "features_group_5 = features_group_1.copy()\n",
    "features_group_5.remove('movie_success')"
   ]
  },
  {
   "cell_type": "code",
   "execution_count": 44,
   "metadata": {},
   "outputs": [],
   "source": [
    "features_group_6 = features_group_1.copy()\n",
    "features_group_6.remove('facenumber_in_poster')"
   ]
  },
  {
   "cell_type": "code",
   "execution_count": 45,
   "metadata": {},
   "outputs": [],
   "source": [
    "features_group_7 = features_group_1.copy()\n",
    "features_group_7.remove('budget')"
   ]
  },
  {
   "cell_type": "code",
   "execution_count": 46,
   "metadata": {},
   "outputs": [],
   "source": [
    "features_group_8 = features_group_1.copy()\n",
    "features_group_8.remove('actor_1_facebook_likes')\n",
    "features_group_8.remove('other_actors_facebook_likes')"
   ]
  },
  {
   "cell_type": "code",
   "execution_count": 48,
   "metadata": {},
   "outputs": [],
   "source": [
    "features_group_9 = features_group_1.copy()\n",
    "features_group_9.remove('actor_1_facebook_likes')\n",
    "features_group_9.remove('other_actors_facebook_likes')\n",
    "features_group_9.remove('director_facebook_likes')"
   ]
  },
  {
   "cell_type": "code",
   "execution_count": 49,
   "metadata": {},
   "outputs": [],
   "source": [
    "features_group_10 = features_group_1.copy()\n",
    "features_group_10.remove('actor_1_facebook_likes')\n",
    "features_group_10.remove('other_actors_facebook_likes')\n",
    "features_group_10.remove('director_facebook_likes')\n",
    "features_group_10.remove('duration')"
   ]
  },
  {
   "cell_type": "code",
   "execution_count": 51,
   "metadata": {},
   "outputs": [],
   "source": [
    "features_group_11 = features_group_1.copy()\n",
    "features_group_11.remove('dir_class_low popularity')\n",
    "features_group_11.remove('dir_class_medium popularity')\n",
    "features_group_11.remove('dir_class_high popularity')"
   ]
  },
  {
   "cell_type": "code",
   "execution_count": 52,
   "metadata": {},
   "outputs": [],
   "source": [
    "features_group_12 = features_group_1.copy()\n",
    "features_group_12.remove('actor_2_class_low popularity')\n",
    "features_group_12.remove('actor_2_class_medium popularity')\n",
    "features_group_12.remove('actor_2_class_high popularity')\n",
    "features_group_12.remove('actor_3_class_low popularity')\n",
    "features_group_12.remove('actor_3_class_medium popularity')\n",
    "features_group_12.remove('actor_3_class_high popularity')"
   ]
  },
  {
   "cell_type": "code",
   "execution_count": 53,
   "metadata": {},
   "outputs": [],
   "source": [
    "features_group_13 = features_group_12.copy()\n",
    "features_group_13.remove('dir_class_low popularity')\n",
    "features_group_13.remove('dir_class_medium popularity')\n",
    "features_group_13.remove('dir_class_high popularity')"
   ]
  },
  {
   "cell_type": "code",
   "execution_count": 54,
   "metadata": {},
   "outputs": [],
   "source": [
    "features_group_14 = features_group_12.copy()\n",
    "features_group_14.remove('actor_1_class_low popularity')\n",
    "features_group_14.remove('actor_1_class_medium popularity')\n",
    "features_group_14.remove('actor_1_class_high popularity')"
   ]
  },
  {
   "cell_type": "code",
   "execution_count": 55,
   "metadata": {},
   "outputs": [],
   "source": [
    "feature_selection_mat = [features_group_1, features_group_2, features_group_3, features_group_4, features_group_5, \n",
    "                         features_group_6, features_group_7, features_group_8, features_group_9, features_group_10,\n",
    "                         features_group_11, features_group_12, features_group_13, features_group_14]\n",
    "groups_number=[1, 2, 3, 4, 5, 6, 7, 8, 9, 10, 11, 12, 13, 14]"
   ]
  },
  {
   "cell_type": "code",
   "execution_count": 56,
   "metadata": {},
   "outputs": [],
   "source": [
    "models =[]\n",
    "rfr_s = []\n",
    "clf_grid={}\n",
    "param={'max_depth':[5,8,25], \"min_samples_split\":[2, 3, 5], \"n_estimators\":[800,1200]}\n",
    "for j, i in enumerate(feature_selection_mat):\n",
    "    x= f_data_5[i]\n",
    "    y=f_data_5.imdb_score\n",
    "    x_train, x_test, y_train, y_test = train_test_split(x,y, test_size=0.3, random_state=42)\n",
    "    RFR=RandomForestRegressor(max_features='sqrt')\n",
    "    clf=GridSearchCV(RFR, param)\n",
    "    clf.fit(x_train, y_train)\n",
    "    models.append(clf)\n",
    "    rfr_s.append(RFR)\n",
    "    clf_grid [groups_number[j]] = clf.grid_scores_"
   ]
  },
  {
   "cell_type": "markdown",
   "metadata": {},
   "source": [
    "- creating a function to report the best model"
   ]
  },
  {
   "cell_type": "code",
   "execution_count": 57,
   "metadata": {},
   "outputs": [],
   "source": [
    "def mark_group_score(group_name, grid_score):\n",
    "    final_score=[]\n",
    "    for i in range(len(grid_score)):\n",
    "        score=[]\n",
    "        score.extend(grid_score[i])\n",
    "        score.append(group_name)\n",
    "        final_score.append(score)\n",
    "    final_score_2=pd.DataFrame(final_score)\n",
    "    final_score_2.columns=['param', 'mean', 'std_s', 'f_group_name']\n",
    "    for j in range(len(final_score_2.index)):\n",
    "        final_score_2.at[j,'mean']=final_score_2.loc[j,'std_s'].mean()\n",
    "        final_score_2.at[j,'std']=np.std(final_score_2.loc[j,'std_s'])\n",
    "    final_score_2.drop('std_s', axis=1, inplace=True)\n",
    "    return final_score_2"
   ]
  },
  {
   "cell_type": "code",
   "execution_count": 58,
   "metadata": {},
   "outputs": [],
   "source": [
    "top_scores=[]\n",
    "n_top_from_each_group=3\n",
    "for i in clf_grid:\n",
    "    scores=clf_grid[i]\n",
    "    sorted_score=mark_group_score(i, clf_grid[i]).sort_values('mean', ascending=False)\n",
    "    for j in range(n_top_from_each_group):\n",
    "        top_index=sorted_score.index[j]\n",
    "        top_scores.append(dict(sorted_score.loc[top_index]))\n",
    "\n",
    "top_score_df=pd.DataFrame(top_scores)    "
   ]
  },
  {
   "cell_type": "markdown",
   "metadata": {},
   "source": [
    "### 5 - printing the results"
   ]
  },
  {
   "cell_type": "code",
   "execution_count": 66,
   "metadata": {},
   "outputs": [],
   "source": [
    "feature_result=top_score_df.sort_values('mean',ascending=False)\n",
    "feature_result.reset_index(drop=True, inplace=True)\n",
    "selected_group = feature_result.loc[0, 'f_group_name']\n",
    "selected_group_2=feature_result.loc[3, 'f_group_name']"
   ]
  },
  {
   "cell_type": "code",
   "execution_count": 67,
   "metadata": {},
   "outputs": [
    {
     "name": "stdout",
     "output_type": "stream",
     "text": [
      "------------------------------------------------------------------------------------------------------------------\n",
      "\u001b[1m the 1st best feature group is the \u001b[91m 14th \u001b[0m \u001b[1m group which are:\u001b[0m \n",
      " ['duration', 'director_facebook_likes', 'actor_1_facebook_likes', 'facenumber_in_poster', 'budget', 'movie_success', 'other_actors_facebook_likes', 'title_year', 'Action', 'Adventure', 'Drama', 'Animation', 'Comedy', 'Mystery', 'Crime', 'Biography', 'Fantasy', 'Documentary', 'Sci-Fi', 'Horror', 'Romance', 'Thriller', 'Family', 'Music', 'Western', 'Musical', 'History', 'War', 'Sport', 'color_ Black and White', 'color_Color', 'language_English', 'language_French', 'language_German', 'language_Hindi', 'language_Japanese', 'language_Mandarin', 'language_Spanish', 'country_Australia', 'country_Canada', 'country_China', 'country_Denmark', 'country_France', 'country_Germany', 'country_Hong Kong', 'country_India', 'country_Ireland', 'country_Italy', 'country_Japan', 'country_Mexico', 'country_New Zealand', 'country_South Korea', 'country_Spain', 'country_UK', 'country_USA', 'dir_class_low popularity', 'dir_class_medium popularity', 'dir_class_high popularity']\n",
      "------------------------------------------------------------------------------------------------------------------\n"
     ]
    }
   ],
   "source": [
    "print('------'*19)\n",
    "print('\\033[1m the 1st best feature group is the \\033[91m {:}th \\033[0m \\033[1m group which are:\\033[0m'.format(selected_group),'\\n', \\\n",
    "      feature_selection_mat[selected_group-1])\n",
    "print('------'*19)"
   ]
  },
  {
   "cell_type": "code",
   "execution_count": 68,
   "metadata": {},
   "outputs": [
    {
     "name": "stdout",
     "output_type": "stream",
     "text": [
      "------------------------------------------------------------------------------------------ \n",
      " The performance of the 1st best model is as follow: \n",
      " ------------------------------------------------------------------------------------------ \n",
      " the mean equals to:   0.486 \n",
      " ------------------------------------------------------------------------------------------ \n",
      " std is            :   0.004 \n",
      " ------------------------------------------------------------------------------------------ \n",
      " the parameters are:   {'max_depth': 25, 'min_samples_split': 3, 'n_estimators': 800} \n",
      " ------------------------------------------------------------------------------------------\n"
     ]
    }
   ],
   "source": [
    "print('---------'*10, '\\n',\n",
    "     'The performance of the 1st best model is as follow:', '\\n', \n",
    "      '---------'*10, '\\n',\n",
    "      'the mean equals to:   {:.3f}'.format( feature_result.loc[0, 'mean']), '\\n',\n",
    "      '---------'*10, '\\n',\n",
    "      'std is            :   {:.3f}'.format(feature_result.loc[0, 'std']), '\\n',\n",
    "      '---------'*10, '\\n',\n",
    "      'the parameters are:   {}'.format(feature_result.loc[0, 'param']) , '\\n' , \n",
    "     '---------'*10)"
   ]
  },
  {
   "cell_type": "code",
   "execution_count": 72,
   "metadata": {},
   "outputs": [
    {
     "name": "stdout",
     "output_type": "stream",
     "text": [
      "------------------------------------------------------------------------------------------------------------------\n",
      "\u001b[1m the 2nd best feature group is the \u001b[91m 9th \u001b[0m \u001b[1m group which are:\u001b[0m \n",
      " ['duration', 'facenumber_in_poster', 'budget', 'movie_success', 'title_year', 'Action', 'Adventure', 'Drama', 'Animation', 'Comedy', 'Mystery', 'Crime', 'Biography', 'Fantasy', 'Documentary', 'Sci-Fi', 'Horror', 'Romance', 'Thriller', 'Family', 'Music', 'Western', 'Musical', 'History', 'War', 'Sport', 'color_ Black and White', 'color_Color', 'language_English', 'language_French', 'language_German', 'language_Hindi', 'language_Japanese', 'language_Mandarin', 'language_Spanish', 'country_Australia', 'country_Canada', 'country_China', 'country_Denmark', 'country_France', 'country_Germany', 'country_Hong Kong', 'country_India', 'country_Ireland', 'country_Italy', 'country_Japan', 'country_Mexico', 'country_New Zealand', 'country_South Korea', 'country_Spain', 'country_UK', 'country_USA', 'dir_class_low popularity', 'dir_class_medium popularity', 'dir_class_high popularity', 'actor_1_class_low popularity', 'actor_1_class_medium popularity', 'actor_1_class_high popularity', 'actor_2_class_low popularity', 'actor_2_class_medium popularity', 'actor_2_class_high popularity', 'actor_3_class_low popularity', 'actor_3_class_medium popularity', 'actor_3_class_high popularity']\n",
      "------------------------------------------------------------------------------------------------------------------\n"
     ]
    }
   ],
   "source": [
    "print('------'*19)\n",
    "print('\\033[1m the 2nd best feature group is the \\033[91m {:}th \\033[0m \\033[1m group which are:\\033[0m'.format(selected_group_2),'\\n', \\\n",
    "      feature_selection_mat[selected_group_2-1])\n",
    "print('------'*19)"
   ]
  },
  {
   "cell_type": "code",
   "execution_count": 70,
   "metadata": {},
   "outputs": [
    {
     "name": "stdout",
     "output_type": "stream",
     "text": [
      "------------------------------------------------------------------------------------------ \n",
      " The performance of the 2nd best model is as follow: \n",
      " ------------------------------------------------------------------------------------------ \n",
      " the mean equals to:   0.486 \n",
      " ------------------------------------------------------------------------------------------ \n",
      " std is            :   0.005 \n",
      " ------------------------------------------------------------------------------------------ \n",
      " the parameters are:   {'max_depth': 25, 'min_samples_split': 2, 'n_estimators': 1200} \n",
      " ------------------------------------------------------------------------------------------\n"
     ]
    }
   ],
   "source": [
    "print('---------'*10, '\\n',\n",
    "     'The performance of the 2nd best model is as follow:', '\\n', \n",
    "      '---------'*10, '\\n',\n",
    "      'the mean equals to:   {:.3f}'.format( feature_result.loc[2, 'mean']), '\\n',\n",
    "      '---------'*10, '\\n',\n",
    "      'std is            :   {:.3f}'.format(feature_result.loc[2, 'std']), '\\n',\n",
    "      '---------'*10, '\\n',\n",
    "      'the parameters are:   {}'.format(feature_result.loc[2, 'param']) , '\\n' , \n",
    "     '---------'*10)"
   ]
  },
  {
   "cell_type": "code",
   "execution_count": 65,
   "metadata": {},
   "outputs": [
    {
     "data": {
      "text/html": [
       "<div>\n",
       "<style scoped>\n",
       "    .dataframe tbody tr th:only-of-type {\n",
       "        vertical-align: middle;\n",
       "    }\n",
       "\n",
       "    .dataframe tbody tr th {\n",
       "        vertical-align: top;\n",
       "    }\n",
       "\n",
       "    .dataframe thead th {\n",
       "        text-align: right;\n",
       "    }\n",
       "</style>\n",
       "<table border=\"1\" class=\"dataframe\">\n",
       "  <thead>\n",
       "    <tr style=\"text-align: right;\">\n",
       "      <th></th>\n",
       "      <th>f_group_name</th>\n",
       "      <th>mean</th>\n",
       "      <th>param</th>\n",
       "      <th>std</th>\n",
       "    </tr>\n",
       "  </thead>\n",
       "  <tbody>\n",
       "    <tr>\n",
       "      <th>0</th>\n",
       "      <td>14</td>\n",
       "      <td>0.485969</td>\n",
       "      <td>{'max_depth': 25, 'min_samples_split': 3, 'n_e...</td>\n",
       "      <td>0.003890</td>\n",
       "    </tr>\n",
       "    <tr>\n",
       "      <th>1</th>\n",
       "      <td>14</td>\n",
       "      <td>0.485940</td>\n",
       "      <td>{'max_depth': 25, 'min_samples_split': 2, 'n_e...</td>\n",
       "      <td>0.004790</td>\n",
       "    </tr>\n",
       "    <tr>\n",
       "      <th>2</th>\n",
       "      <td>14</td>\n",
       "      <td>0.485658</td>\n",
       "      <td>{'max_depth': 25, 'min_samples_split': 2, 'n_e...</td>\n",
       "      <td>0.004699</td>\n",
       "    </tr>\n",
       "    <tr>\n",
       "      <th>3</th>\n",
       "      <td>9</td>\n",
       "      <td>0.484523</td>\n",
       "      <td>{'max_depth': 25, 'min_samples_split': 2, 'n_e...</td>\n",
       "      <td>0.011920</td>\n",
       "    </tr>\n",
       "    <tr>\n",
       "      <th>4</th>\n",
       "      <td>9</td>\n",
       "      <td>0.484351</td>\n",
       "      <td>{'max_depth': 25, 'min_samples_split': 2, 'n_e...</td>\n",
       "      <td>0.012440</td>\n",
       "    </tr>\n",
       "    <tr>\n",
       "      <th>5</th>\n",
       "      <td>8</td>\n",
       "      <td>0.482873</td>\n",
       "      <td>{'max_depth': 25, 'min_samples_split': 2, 'n_e...</td>\n",
       "      <td>0.007264</td>\n",
       "    </tr>\n",
       "    <tr>\n",
       "      <th>6</th>\n",
       "      <td>9</td>\n",
       "      <td>0.482776</td>\n",
       "      <td>{'max_depth': 25, 'min_samples_split': 3, 'n_e...</td>\n",
       "      <td>0.010455</td>\n",
       "    </tr>\n",
       "    <tr>\n",
       "      <th>7</th>\n",
       "      <td>13</td>\n",
       "      <td>0.482634</td>\n",
       "      <td>{'max_depth': 25, 'min_samples_split': 2, 'n_e...</td>\n",
       "      <td>0.007773</td>\n",
       "    </tr>\n",
       "    <tr>\n",
       "      <th>8</th>\n",
       "      <td>8</td>\n",
       "      <td>0.482255</td>\n",
       "      <td>{'max_depth': 25, 'min_samples_split': 2, 'n_e...</td>\n",
       "      <td>0.007446</td>\n",
       "    </tr>\n",
       "    <tr>\n",
       "      <th>9</th>\n",
       "      <td>13</td>\n",
       "      <td>0.481618</td>\n",
       "      <td>{'max_depth': 25, 'min_samples_split': 2, 'n_e...</td>\n",
       "      <td>0.007167</td>\n",
       "    </tr>\n",
       "    <tr>\n",
       "      <th>10</th>\n",
       "      <td>8</td>\n",
       "      <td>0.480811</td>\n",
       "      <td>{'max_depth': 25, 'min_samples_split': 3, 'n_e...</td>\n",
       "      <td>0.007899</td>\n",
       "    </tr>\n",
       "    <tr>\n",
       "      <th>11</th>\n",
       "      <td>13</td>\n",
       "      <td>0.480563</td>\n",
       "      <td>{'max_depth': 25, 'min_samples_split': 3, 'n_e...</td>\n",
       "      <td>0.008305</td>\n",
       "    </tr>\n",
       "    <tr>\n",
       "      <th>12</th>\n",
       "      <td>4</td>\n",
       "      <td>0.479383</td>\n",
       "      <td>{'max_depth': 25, 'min_samples_split': 2, 'n_e...</td>\n",
       "      <td>0.008188</td>\n",
       "    </tr>\n",
       "    <tr>\n",
       "      <th>13</th>\n",
       "      <td>4</td>\n",
       "      <td>0.479167</td>\n",
       "      <td>{'max_depth': 25, 'min_samples_split': 2, 'n_e...</td>\n",
       "      <td>0.009417</td>\n",
       "    </tr>\n",
       "    <tr>\n",
       "      <th>14</th>\n",
       "      <td>11</td>\n",
       "      <td>0.479022</td>\n",
       "      <td>{'max_depth': 25, 'min_samples_split': 2, 'n_e...</td>\n",
       "      <td>0.008720</td>\n",
       "    </tr>\n",
       "    <tr>\n",
       "      <th>15</th>\n",
       "      <td>12</td>\n",
       "      <td>0.477781</td>\n",
       "      <td>{'max_depth': 25, 'min_samples_split': 2, 'n_e...</td>\n",
       "      <td>0.007964</td>\n",
       "    </tr>\n",
       "    <tr>\n",
       "      <th>16</th>\n",
       "      <td>4</td>\n",
       "      <td>0.477165</td>\n",
       "      <td>{'max_depth': 25, 'min_samples_split': 3, 'n_e...</td>\n",
       "      <td>0.008736</td>\n",
       "    </tr>\n",
       "    <tr>\n",
       "      <th>17</th>\n",
       "      <td>6</td>\n",
       "      <td>0.476976</td>\n",
       "      <td>{'max_depth': 25, 'min_samples_split': 2, 'n_e...</td>\n",
       "      <td>0.008451</td>\n",
       "    </tr>\n",
       "    <tr>\n",
       "      <th>18</th>\n",
       "      <td>11</td>\n",
       "      <td>0.476873</td>\n",
       "      <td>{'max_depth': 25, 'min_samples_split': 2, 'n_e...</td>\n",
       "      <td>0.008825</td>\n",
       "    </tr>\n",
       "    <tr>\n",
       "      <th>19</th>\n",
       "      <td>3</td>\n",
       "      <td>0.476544</td>\n",
       "      <td>{'max_depth': 25, 'min_samples_split': 2, 'n_e...</td>\n",
       "      <td>0.010193</td>\n",
       "    </tr>\n",
       "    <tr>\n",
       "      <th>20</th>\n",
       "      <td>6</td>\n",
       "      <td>0.476508</td>\n",
       "      <td>{'max_depth': 25, 'min_samples_split': 2, 'n_e...</td>\n",
       "      <td>0.008564</td>\n",
       "    </tr>\n",
       "    <tr>\n",
       "      <th>21</th>\n",
       "      <td>12</td>\n",
       "      <td>0.476250</td>\n",
       "      <td>{'max_depth': 25, 'min_samples_split': 2, 'n_e...</td>\n",
       "      <td>0.009524</td>\n",
       "    </tr>\n",
       "    <tr>\n",
       "      <th>22</th>\n",
       "      <td>3</td>\n",
       "      <td>0.475998</td>\n",
       "      <td>{'max_depth': 25, 'min_samples_split': 3, 'n_e...</td>\n",
       "      <td>0.008450</td>\n",
       "    </tr>\n",
       "    <tr>\n",
       "      <th>23</th>\n",
       "      <td>1</td>\n",
       "      <td>0.475662</td>\n",
       "      <td>{'max_depth': 25, 'min_samples_split': 2, 'n_e...</td>\n",
       "      <td>0.008903</td>\n",
       "    </tr>\n",
       "    <tr>\n",
       "      <th>24</th>\n",
       "      <td>11</td>\n",
       "      <td>0.475471</td>\n",
       "      <td>{'max_depth': 25, 'min_samples_split': 3, 'n_e...</td>\n",
       "      <td>0.008719</td>\n",
       "    </tr>\n",
       "    <tr>\n",
       "      <th>25</th>\n",
       "      <td>12</td>\n",
       "      <td>0.475322</td>\n",
       "      <td>{'max_depth': 25, 'min_samples_split': 3, 'n_e...</td>\n",
       "      <td>0.009079</td>\n",
       "    </tr>\n",
       "    <tr>\n",
       "      <th>26</th>\n",
       "      <td>2</td>\n",
       "      <td>0.474910</td>\n",
       "      <td>{'max_depth': 25, 'min_samples_split': 2, 'n_e...</td>\n",
       "      <td>0.011775</td>\n",
       "    </tr>\n",
       "    <tr>\n",
       "      <th>27</th>\n",
       "      <td>3</td>\n",
       "      <td>0.474495</td>\n",
       "      <td>{'max_depth': 25, 'min_samples_split': 2, 'n_e...</td>\n",
       "      <td>0.006940</td>\n",
       "    </tr>\n",
       "    <tr>\n",
       "      <th>28</th>\n",
       "      <td>2</td>\n",
       "      <td>0.474320</td>\n",
       "      <td>{'max_depth': 25, 'min_samples_split': 2, 'n_e...</td>\n",
       "      <td>0.012532</td>\n",
       "    </tr>\n",
       "    <tr>\n",
       "      <th>29</th>\n",
       "      <td>1</td>\n",
       "      <td>0.474255</td>\n",
       "      <td>{'max_depth': 25, 'min_samples_split': 2, 'n_e...</td>\n",
       "      <td>0.009981</td>\n",
       "    </tr>\n",
       "    <tr>\n",
       "      <th>30</th>\n",
       "      <td>2</td>\n",
       "      <td>0.473181</td>\n",
       "      <td>{'max_depth': 25, 'min_samples_split': 3, 'n_e...</td>\n",
       "      <td>0.012009</td>\n",
       "    </tr>\n",
       "    <tr>\n",
       "      <th>31</th>\n",
       "      <td>6</td>\n",
       "      <td>0.472954</td>\n",
       "      <td>{'max_depth': 25, 'min_samples_split': 3, 'n_e...</td>\n",
       "      <td>0.010101</td>\n",
       "    </tr>\n",
       "    <tr>\n",
       "      <th>32</th>\n",
       "      <td>1</td>\n",
       "      <td>0.472820</td>\n",
       "      <td>{'max_depth': 25, 'min_samples_split': 3, 'n_e...</td>\n",
       "      <td>0.011423</td>\n",
       "    </tr>\n",
       "    <tr>\n",
       "      <th>33</th>\n",
       "      <td>10</td>\n",
       "      <td>0.471079</td>\n",
       "      <td>{'max_depth': 25, 'min_samples_split': 2, 'n_e...</td>\n",
       "      <td>0.012882</td>\n",
       "    </tr>\n",
       "    <tr>\n",
       "      <th>34</th>\n",
       "      <td>10</td>\n",
       "      <td>0.471005</td>\n",
       "      <td>{'max_depth': 25, 'min_samples_split': 2, 'n_e...</td>\n",
       "      <td>0.009958</td>\n",
       "    </tr>\n",
       "    <tr>\n",
       "      <th>35</th>\n",
       "      <td>10</td>\n",
       "      <td>0.468457</td>\n",
       "      <td>{'max_depth': 25, 'min_samples_split': 3, 'n_e...</td>\n",
       "      <td>0.010918</td>\n",
       "    </tr>\n",
       "    <tr>\n",
       "      <th>36</th>\n",
       "      <td>7</td>\n",
       "      <td>0.458112</td>\n",
       "      <td>{'max_depth': 25, 'min_samples_split': 2, 'n_e...</td>\n",
       "      <td>0.005703</td>\n",
       "    </tr>\n",
       "    <tr>\n",
       "      <th>37</th>\n",
       "      <td>7</td>\n",
       "      <td>0.457909</td>\n",
       "      <td>{'max_depth': 25, 'min_samples_split': 2, 'n_e...</td>\n",
       "      <td>0.005836</td>\n",
       "    </tr>\n",
       "    <tr>\n",
       "      <th>38</th>\n",
       "      <td>7</td>\n",
       "      <td>0.456438</td>\n",
       "      <td>{'max_depth': 25, 'min_samples_split': 3, 'n_e...</td>\n",
       "      <td>0.007535</td>\n",
       "    </tr>\n",
       "    <tr>\n",
       "      <th>39</th>\n",
       "      <td>5</td>\n",
       "      <td>0.350694</td>\n",
       "      <td>{'max_depth': 25, 'min_samples_split': 2, 'n_e...</td>\n",
       "      <td>0.011891</td>\n",
       "    </tr>\n",
       "    <tr>\n",
       "      <th>40</th>\n",
       "      <td>5</td>\n",
       "      <td>0.350640</td>\n",
       "      <td>{'max_depth': 25, 'min_samples_split': 3, 'n_e...</td>\n",
       "      <td>0.013958</td>\n",
       "    </tr>\n",
       "    <tr>\n",
       "      <th>41</th>\n",
       "      <td>5</td>\n",
       "      <td>0.348559</td>\n",
       "      <td>{'max_depth': 25, 'min_samples_split': 2, 'n_e...</td>\n",
       "      <td>0.011842</td>\n",
       "    </tr>\n",
       "  </tbody>\n",
       "</table>\n",
       "</div>"
      ],
      "text/plain": [
       "    f_group_name      mean                                              param  \\\n",
       "0             14  0.485969  {'max_depth': 25, 'min_samples_split': 3, 'n_e...   \n",
       "1             14  0.485940  {'max_depth': 25, 'min_samples_split': 2, 'n_e...   \n",
       "2             14  0.485658  {'max_depth': 25, 'min_samples_split': 2, 'n_e...   \n",
       "3              9  0.484523  {'max_depth': 25, 'min_samples_split': 2, 'n_e...   \n",
       "4              9  0.484351  {'max_depth': 25, 'min_samples_split': 2, 'n_e...   \n",
       "5              8  0.482873  {'max_depth': 25, 'min_samples_split': 2, 'n_e...   \n",
       "6              9  0.482776  {'max_depth': 25, 'min_samples_split': 3, 'n_e...   \n",
       "7             13  0.482634  {'max_depth': 25, 'min_samples_split': 2, 'n_e...   \n",
       "8              8  0.482255  {'max_depth': 25, 'min_samples_split': 2, 'n_e...   \n",
       "9             13  0.481618  {'max_depth': 25, 'min_samples_split': 2, 'n_e...   \n",
       "10             8  0.480811  {'max_depth': 25, 'min_samples_split': 3, 'n_e...   \n",
       "11            13  0.480563  {'max_depth': 25, 'min_samples_split': 3, 'n_e...   \n",
       "12             4  0.479383  {'max_depth': 25, 'min_samples_split': 2, 'n_e...   \n",
       "13             4  0.479167  {'max_depth': 25, 'min_samples_split': 2, 'n_e...   \n",
       "14            11  0.479022  {'max_depth': 25, 'min_samples_split': 2, 'n_e...   \n",
       "15            12  0.477781  {'max_depth': 25, 'min_samples_split': 2, 'n_e...   \n",
       "16             4  0.477165  {'max_depth': 25, 'min_samples_split': 3, 'n_e...   \n",
       "17             6  0.476976  {'max_depth': 25, 'min_samples_split': 2, 'n_e...   \n",
       "18            11  0.476873  {'max_depth': 25, 'min_samples_split': 2, 'n_e...   \n",
       "19             3  0.476544  {'max_depth': 25, 'min_samples_split': 2, 'n_e...   \n",
       "20             6  0.476508  {'max_depth': 25, 'min_samples_split': 2, 'n_e...   \n",
       "21            12  0.476250  {'max_depth': 25, 'min_samples_split': 2, 'n_e...   \n",
       "22             3  0.475998  {'max_depth': 25, 'min_samples_split': 3, 'n_e...   \n",
       "23             1  0.475662  {'max_depth': 25, 'min_samples_split': 2, 'n_e...   \n",
       "24            11  0.475471  {'max_depth': 25, 'min_samples_split': 3, 'n_e...   \n",
       "25            12  0.475322  {'max_depth': 25, 'min_samples_split': 3, 'n_e...   \n",
       "26             2  0.474910  {'max_depth': 25, 'min_samples_split': 2, 'n_e...   \n",
       "27             3  0.474495  {'max_depth': 25, 'min_samples_split': 2, 'n_e...   \n",
       "28             2  0.474320  {'max_depth': 25, 'min_samples_split': 2, 'n_e...   \n",
       "29             1  0.474255  {'max_depth': 25, 'min_samples_split': 2, 'n_e...   \n",
       "30             2  0.473181  {'max_depth': 25, 'min_samples_split': 3, 'n_e...   \n",
       "31             6  0.472954  {'max_depth': 25, 'min_samples_split': 3, 'n_e...   \n",
       "32             1  0.472820  {'max_depth': 25, 'min_samples_split': 3, 'n_e...   \n",
       "33            10  0.471079  {'max_depth': 25, 'min_samples_split': 2, 'n_e...   \n",
       "34            10  0.471005  {'max_depth': 25, 'min_samples_split': 2, 'n_e...   \n",
       "35            10  0.468457  {'max_depth': 25, 'min_samples_split': 3, 'n_e...   \n",
       "36             7  0.458112  {'max_depth': 25, 'min_samples_split': 2, 'n_e...   \n",
       "37             7  0.457909  {'max_depth': 25, 'min_samples_split': 2, 'n_e...   \n",
       "38             7  0.456438  {'max_depth': 25, 'min_samples_split': 3, 'n_e...   \n",
       "39             5  0.350694  {'max_depth': 25, 'min_samples_split': 2, 'n_e...   \n",
       "40             5  0.350640  {'max_depth': 25, 'min_samples_split': 3, 'n_e...   \n",
       "41             5  0.348559  {'max_depth': 25, 'min_samples_split': 2, 'n_e...   \n",
       "\n",
       "         std  \n",
       "0   0.003890  \n",
       "1   0.004790  \n",
       "2   0.004699  \n",
       "3   0.011920  \n",
       "4   0.012440  \n",
       "5   0.007264  \n",
       "6   0.010455  \n",
       "7   0.007773  \n",
       "8   0.007446  \n",
       "9   0.007167  \n",
       "10  0.007899  \n",
       "11  0.008305  \n",
       "12  0.008188  \n",
       "13  0.009417  \n",
       "14  0.008720  \n",
       "15  0.007964  \n",
       "16  0.008736  \n",
       "17  0.008451  \n",
       "18  0.008825  \n",
       "19  0.010193  \n",
       "20  0.008564  \n",
       "21  0.009524  \n",
       "22  0.008450  \n",
       "23  0.008903  \n",
       "24  0.008719  \n",
       "25  0.009079  \n",
       "26  0.011775  \n",
       "27  0.006940  \n",
       "28  0.012532  \n",
       "29  0.009981  \n",
       "30  0.012009  \n",
       "31  0.010101  \n",
       "32  0.011423  \n",
       "33  0.012882  \n",
       "34  0.009958  \n",
       "35  0.010918  \n",
       "36  0.005703  \n",
       "37  0.005836  \n",
       "38  0.007535  \n",
       "39  0.011891  \n",
       "40  0.013958  \n",
       "41  0.011842  "
      ]
     },
     "execution_count": 65,
     "metadata": {},
     "output_type": "execute_result"
    }
   ],
   "source": [
    "feature_result"
   ]
  },
  {
   "cell_type": "code",
   "execution_count": null,
   "metadata": {},
   "outputs": [],
   "source": []
  }
 ],
 "metadata": {
  "kernelspec": {
   "display_name": "Python 3",
   "language": "python",
   "name": "python3"
  },
  "language_info": {
   "codemirror_mode": {
    "name": "ipython",
    "version": 3
   },
   "file_extension": ".py",
   "mimetype": "text/x-python",
   "name": "python",
   "nbconvert_exporter": "python",
   "pygments_lexer": "ipython3",
   "version": "3.6.6"
  }
 },
 "nbformat": 4,
 "nbformat_minor": 2
}
